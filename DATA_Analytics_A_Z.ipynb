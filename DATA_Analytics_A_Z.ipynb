{
  "nbformat": 4,
  "nbformat_minor": 0,
  "metadata": {
    "colab": {
      "provenance": [],
      "name": "DATA Analytics A-Z.ipynb",
      "authorship_tag": "ABX9TyMtqYysbQJqFsYWymhdsk5A",
      "include_colab_link": true
    },
    "kernelspec": {
      "name": "python3",
      "display_name": "Python 3"
    },
    "language_info": {
      "name": "python"
    }
  },
  "cells": [
    {
      "cell_type": "markdown",
      "metadata": {
        "id": "view-in-github",
        "colab_type": "text"
      },
      "source": [
        "<a href=\"https://colab.research.google.com/github/JSMaruthi/DATA-Analytics/blob/main/DATA_Analytics_A_Z.ipynb\" target=\"_parent\"><img src=\"https://colab.research.google.com/assets/colab-badge.svg\" alt=\"Open In Colab\"/></a>"
      ]
    },
    {
      "cell_type": "code",
      "execution_count": null,
      "metadata": {
        "colab": {
          "base_uri": "https://localhost:8080/"
        },
        "id": "ZXDwKvo2_R6z",
        "outputId": "0d15374f-e1a2-4967-99d6-77f43636d388"
      },
      "outputs": [
        {
          "output_type": "stream",
          "name": "stdout",
          "text": [
            "Hello world\n"
          ]
        }
      ],
      "source": [
        "print (\"Hello world\")"
      ]
    },
    {
      "cell_type": "code",
      "source": [
        "      #Creating variables"
      ],
      "metadata": {
        "id": "NO1xLSctAC3c"
      },
      "execution_count": null,
      "outputs": []
    },
    {
      "cell_type": "code",
      "source": [
        "college = (\"SJCE\")\n",
        "print (college)"
      ],
      "metadata": {
        "colab": {
          "base_uri": "https://localhost:8080/"
        },
        "id": "ENJyOj69RGh0",
        "outputId": "d7755cb6-6d05-4d7f-aeb1-254ddaac336d"
      },
      "execution_count": null,
      "outputs": [
        {
          "output_type": "stream",
          "name": "stdout",
          "text": [
            "SJCE\n"
          ]
        }
      ]
    },
    {
      "cell_type": "code",
      "source": [
        "a = 10\n",
        "b= 25\n",
        "c=a*b\n",
        "print (c)"
      ],
      "metadata": {
        "colab": {
          "base_uri": "https://localhost:8080/"
        },
        "id": "A65F1pNISoRx",
        "outputId": "19df3927-8f85-405f-cd34-0768d674f0ca"
      },
      "execution_count": null,
      "outputs": [
        {
          "output_type": "stream",
          "name": "stdout",
          "text": [
            "250\n"
          ]
        }
      ]
    },
    {
      "cell_type": "code",
      "source": [
        "print (college,c)"
      ],
      "metadata": {
        "colab": {
          "base_uri": "https://localhost:8080/"
        },
        "id": "XhMxoMHBTBN7",
        "outputId": "fd3e4db7-3c9f-4fbe-f0bc-0858e7dcb494"
      },
      "execution_count": null,
      "outputs": [
        {
          "output_type": "stream",
          "name": "stdout",
          "text": [
            "SJCE 250\n"
          ]
        }
      ]
    },
    {
      "cell_type": "code",
      "source": [
        "True + 1\n"
      ],
      "metadata": {
        "colab": {
          "base_uri": "https://localhost:8080/"
        },
        "id": "qvh15GTST-7Q",
        "outputId": "972b7a85-343d-4d3b-a674-1ee650651bc8"
      },
      "execution_count": null,
      "outputs": [
        {
          "output_type": "execute_result",
          "data": {
            "text/plain": [
              "2"
            ]
          },
          "metadata": {},
          "execution_count": 10
        }
      ]
    },
    {
      "cell_type": "code",
      "source": [
        "False + 1"
      ],
      "metadata": {
        "colab": {
          "base_uri": "https://localhost:8080/"
        },
        "id": "dtHOA11VVirh",
        "outputId": "a6b9753d-4222-437d-daf0-56b09946c1a7"
      },
      "execution_count": null,
      "outputs": [
        {
          "output_type": "execute_result",
          "data": {
            "text/plain": [
              "1"
            ]
          },
          "metadata": {},
          "execution_count": 11
        }
      ]
    },
    {
      "cell_type": "code",
      "source": [
        "True + True"
      ],
      "metadata": {
        "colab": {
          "base_uri": "https://localhost:8080/"
        },
        "id": "TtRBOW81Vp8J",
        "outputId": "d5af1d00-b9c3-4f0f-8442-ea706aa0b48a"
      },
      "execution_count": null,
      "outputs": [
        {
          "output_type": "execute_result",
          "data": {
            "text/plain": [
              "2"
            ]
          },
          "metadata": {},
          "execution_count": 12
        }
      ]
    },
    {
      "cell_type": "code",
      "source": [
        "False + False"
      ],
      "metadata": {
        "colab": {
          "base_uri": "https://localhost:8080/"
        },
        "id": "06ZJitwIVuK7",
        "outputId": "608ac43d-8d02-4891-d961-e6040a123263"
      },
      "execution_count": null,
      "outputs": [
        {
          "output_type": "execute_result",
          "data": {
            "text/plain": [
              "0"
            ]
          },
          "metadata": {},
          "execution_count": 14
        }
      ]
    },
    {
      "cell_type": "code",
      "source": [
        "\"STR\" + True"
      ],
      "metadata": {
        "colab": {
          "base_uri": "https://localhost:8080/",
          "height": 176
        },
        "id": "Ev0OJUrpV11S",
        "outputId": "28663ec9-eca2-40e9-ca72-3f094a9c4e80"
      },
      "execution_count": null,
      "outputs": [
        {
          "output_type": "error",
          "ename": "TypeError",
          "evalue": "can only concatenate str (not \"bool\") to str",
          "traceback": [
            "\u001b[0;31m---------------------------------------------------------------------------\u001b[0m",
            "\u001b[0;31mTypeError\u001b[0m                                 Traceback (most recent call last)",
            "\u001b[0;32m/tmp/ipython-input-3625798119.py\u001b[0m in \u001b[0;36m<cell line: 0>\u001b[0;34m()\u001b[0m\n\u001b[0;32m----> 1\u001b[0;31m \u001b[0;34m\"STR\"\u001b[0m \u001b[0;34m+\u001b[0m \u001b[0;32mTrue\u001b[0m\u001b[0;34m\u001b[0m\u001b[0;34m\u001b[0m\u001b[0m\n\u001b[0m",
            "\u001b[0;31mTypeError\u001b[0m: can only concatenate str (not \"bool\") to str"
          ]
        }
      ]
    },
    {
      "cell_type": "code",
      "source": [
        "#TYPE Casting int -> Float\n",
        "x = 10      #int\n",
        "y = 3.5     #float\n",
        "z = x + y\n",
        "print (z)\n",
        "print (type(z))"
      ],
      "metadata": {
        "colab": {
          "base_uri": "https://localhost:8080/"
        },
        "id": "JdCeTFkbWqzO",
        "outputId": "f76c0450-ad4c-46fa-f6ef-c610e7f1d8ee"
      },
      "execution_count": null,
      "outputs": [
        {
          "output_type": "stream",
          "name": "stdout",
          "text": [
            "13.5\n",
            "<class 'float'>\n"
          ]
        }
      ]
    },
    {
      "cell_type": "code",
      "source": [
        "#Type Casting float -> int\n",
        "a = 10.5\n",
        "b = int(a)\n",
        "print (b)\n",
        "print(type (a))"
      ],
      "metadata": {
        "colab": {
          "base_uri": "https://localhost:8080/"
        },
        "id": "wkO7F6EnYHJE",
        "outputId": "7c63ea88-0962-467f-cb66-5136a75086ec"
      },
      "execution_count": null,
      "outputs": [
        {
          "output_type": "stream",
          "name": "stdout",
          "text": [
            "10\n",
            "<class 'float'>\n"
          ]
        }
      ]
    },
    {
      "cell_type": "code",
      "source": [
        "#Type Casting number -> string\n",
        "d = str(123)\n",
        "print (d)\n",
        "print (type(d))\n"
      ],
      "metadata": {
        "colab": {
          "base_uri": "https://localhost:8080/"
        },
        "id": "U7Q4fUhbYltv",
        "outputId": "8f09bebc-18f3-4a7f-d51d-3f3c41ed2c83"
      },
      "execution_count": null,
      "outputs": [
        {
          "output_type": "stream",
          "name": "stdout",
          "text": [
            "123\n",
            "<class 'str'>\n"
          ]
        }
      ]
    },
    {
      "cell_type": "code",
      "source": [
        "#Type Casting string -> integer\n",
        "e = int (\"56\")\n",
        "print (e)\n",
        "print (type(e))\n"
      ],
      "metadata": {
        "colab": {
          "base_uri": "https://localhost:8080/"
        },
        "id": "jAH92SseZc-k",
        "outputId": "99fc768a-6a8a-4506-8565-28f4d2480506"
      },
      "execution_count": null,
      "outputs": [
        {
          "output_type": "stream",
          "name": "stdout",
          "text": [
            "56\n",
            "<class 'int'>\n"
          ]
        }
      ]
    },
    {
      "cell_type": "code",
      "source": [
        "#Formatted output\n",
        "name = \"Maruthi S\"\n",
        "age = 20\n",
        "print (f\"My name is {name} and my age is {age}\")"
      ],
      "metadata": {
        "colab": {
          "base_uri": "https://localhost:8080/"
        },
        "id": "UVks9Fdib9iR",
        "outputId": "ed110462-5964-453f-cc06-8477418fc1c0"
      },
      "execution_count": null,
      "outputs": [
        {
          "output_type": "stream",
          "name": "stdout",
          "text": [
            "My name is Maruthi S and my age is 20\n"
          ]
        }
      ]
    },
    {
      "cell_type": "code",
      "source": [
        "#Functions"
      ],
      "metadata": {
        "id": "5NLRajW4ezG9"
      },
      "execution_count": null,
      "outputs": []
    },
    {
      "cell_type": "code",
      "source": [
        "def greet():\n",
        "  print (\"Hello, Welcome to Python!\")\n"
      ],
      "metadata": {
        "id": "PZBeeP-DbwH_"
      },
      "execution_count": null,
      "outputs": []
    },
    {
      "cell_type": "code",
      "source": [
        "greet()\n"
      ],
      "metadata": {
        "colab": {
          "base_uri": "https://localhost:8080/"
        },
        "id": "X7FhgMedifus",
        "outputId": "1b3f5e07-d324-4552-f720-93b776c7f24b"
      },
      "execution_count": null,
      "outputs": [
        {
          "output_type": "stream",
          "name": "stdout",
          "text": [
            "Hello, Welcome to Python!\n"
          ]
        }
      ]
    },
    {
      "cell_type": "markdown",
      "source": [
        "Functions with Parameter"
      ],
      "metadata": {
        "id": "BuSDs1y0kiNM"
      }
    },
    {
      "cell_type": "code",
      "source": [
        "def greet_user (Jayanth):\n",
        "  print (f\"Hello, {Jayanth}!\")\n",
        "\n",
        "greet_user (\"Jayanth\")"
      ],
      "metadata": {
        "colab": {
          "base_uri": "https://localhost:8080/"
        },
        "id": "1_Smp3lLklD3",
        "outputId": "1419b7ca-1ffa-44c5-f223-c06dd6502930"
      },
      "execution_count": null,
      "outputs": [
        {
          "output_type": "stream",
          "name": "stdout",
          "text": [
            "Hello, Jayanth!\n"
          ]
        }
      ]
    },
    {
      "cell_type": "markdown",
      "source": [
        "Functions With return type"
      ],
      "metadata": {
        "id": "AqtzfvxLiats"
      }
    },
    {
      "cell_type": "code",
      "source": [
        "def add (a,b):\n",
        "  return a+b\n",
        "result = add(10,5)\n",
        "print (\"Sum =\", result)"
      ],
      "metadata": {
        "colab": {
          "base_uri": "https://localhost:8080/"
        },
        "id": "Mp1zQ2P2qDwR",
        "outputId": "8767a35e-db73-4284-a69b-a00f906cde30"
      },
      "execution_count": null,
      "outputs": [
        {
          "output_type": "stream",
          "name": "stdout",
          "text": [
            "Sum = 15\n"
          ]
        }
      ]
    },
    {
      "cell_type": "markdown",
      "source": [
        "List - ordered, changeable & store different data types. Index will start from 0."
      ],
      "metadata": {
        "id": "WP2ufdGzeyhe"
      }
    },
    {
      "cell_type": "code",
      "source": [
        "fruits = [\"apple\",\"Banana\",\"Cherry\"]\n",
        "numbers = [10,12,24]\n",
        "mixed = [10, \"Hi\", 3.14, True]\n"
      ],
      "metadata": {
        "id": "Ysk-seLA3T9t"
      },
      "execution_count": null,
      "outputs": []
    },
    {
      "cell_type": "code",
      "source": [
        "num = [1,3,5,7,9]\n",
        "num[-3]\n"
      ],
      "metadata": {
        "id": "GKD5mI3R5EnE",
        "outputId": "57630545-49b9-498d-db91-29a07777d453",
        "colab": {
          "base_uri": "https://localhost:8080/"
        }
      },
      "execution_count": null,
      "outputs": [
        {
          "output_type": "execute_result",
          "data": {
            "text/plain": [
              "5"
            ]
          },
          "metadata": {},
          "execution_count": 8
        }
      ]
    },
    {
      "cell_type": "code",
      "source": [
        "num = [1,3,5,7,9]\n",
        "num[2]"
      ],
      "metadata": {
        "id": "0bQ-Rig658b9",
        "outputId": "45a0895b-7fde-47f3-a361-aa1f441443b2",
        "colab": {
          "base_uri": "https://localhost:8080/"
        }
      },
      "execution_count": null,
      "outputs": [
        {
          "output_type": "execute_result",
          "data": {
            "text/plain": [
              "5"
            ]
          },
          "metadata": {},
          "execution_count": 9
        }
      ]
    },
    {
      "cell_type": "markdown",
      "source": [
        "Modifying lists, changing value"
      ],
      "metadata": {
        "id": "h52lJDb0epxp"
      }
    },
    {
      "cell_type": "code",
      "source": [
        "numbers=[10,20,30,40,50]\n",
        "numbers[2]=35\n",
        "print(numbers)"
      ],
      "metadata": {
        "colab": {
          "base_uri": "https://localhost:8080/"
        },
        "id": "Ar7RyUAues-U",
        "outputId": "82139e6a-99fe-4649-a730-8e40b308b117"
      },
      "execution_count": null,
      "outputs": [
        {
          "output_type": "stream",
          "name": "stdout",
          "text": [
            "[10, 20, 35, 40, 50]\n"
          ]
        }
      ]
    },
    {
      "cell_type": "markdown",
      "source": [
        "  Adding Elements\n",
        "(Append) - Adds item @ the end"
      ],
      "metadata": {
        "id": "aE4genJah6Mi"
      }
    },
    {
      "cell_type": "code",
      "source": [
        "nums = [1,2,3]\n",
        "nums.append(4)\n",
        "print(nums)"
      ],
      "metadata": {
        "colab": {
          "base_uri": "https://localhost:8080/"
        },
        "id": "DXZzDNTviGrr",
        "outputId": "c37692c2-3a6e-449e-a6ae-9b7a592088eb"
      },
      "execution_count": null,
      "outputs": [
        {
          "output_type": "stream",
          "name": "stdout",
          "text": [
            "[1, 2, 3, 4]\n"
          ]
        }
      ]
    },
    {
      "cell_type": "markdown",
      "source": [
        "(insert) adds its @ specific index"
      ],
      "metadata": {
        "id": "VbJ116Q1jLtk"
      }
    },
    {
      "cell_type": "code",
      "source": [
        "numbers=[10,20,30,40]\n",
        "numbers.insert(3,35)\n",
        "print(numbers)"
      ],
      "metadata": {
        "colab": {
          "base_uri": "https://localhost:8080/"
        },
        "id": "LdtzL6CPj9bS",
        "outputId": "b019b7a1-6a34-48a8-c9ca-3657f9d77aa6"
      },
      "execution_count": null,
      "outputs": [
        {
          "output_type": "stream",
          "name": "stdout",
          "text": [
            "[10, 20, 30, 35, 40]\n"
          ]
        }
      ]
    },
    {
      "cell_type": "markdown",
      "source": [
        "(extend) adds multiple items"
      ],
      "metadata": {
        "id": "615tmJZjnePT"
      }
    },
    {
      "cell_type": "code",
      "source": [
        "nums = [11,22,33,44,55]\n",
        "nums.extend([66,77])\n",
        "print(nums)"
      ],
      "metadata": {
        "colab": {
          "base_uri": "https://localhost:8080/"
        },
        "id": "Zb3stR0QoDGB",
        "outputId": "7142c579-26bf-42e4-b90a-a8ffb506391f"
      },
      "execution_count": null,
      "outputs": [
        {
          "output_type": "stream",
          "name": "stdout",
          "text": [
            "[11, 22, 33, 44, 55, 66, 77]\n"
          ]
        }
      ]
    },
    {
      "cell_type": "markdown",
      "source": [
        "Removing elements"
      ],
      "metadata": {
        "id": "UhSOOCAUxCPb"
      }
    },
    {
      "cell_type": "markdown",
      "source": [
        "Remove(x) - Removes the occurence of x"
      ],
      "metadata": {
        "id": "zDdRhXuyxNWB"
      }
    },
    {
      "cell_type": "code",
      "source": [
        "nums = [1,2,3,4]\n",
        "nums.remove(2)\n",
        "print(nums)"
      ],
      "metadata": {
        "colab": {
          "base_uri": "https://localhost:8080/"
        },
        "id": "U0eij7CIxVrp",
        "outputId": "7a3d6ad6-c221-4b0a-cf20-19cb13e684a8"
      },
      "execution_count": null,
      "outputs": [
        {
          "output_type": "stream",
          "name": "stdout",
          "text": [
            "[1, 3, 4]\n"
          ]
        }
      ]
    },
    {
      "cell_type": "markdown",
      "source": [
        "Pop(i) it removes element @ index i"
      ],
      "metadata": {
        "id": "1K69jZ_XyJL_"
      }
    },
    {
      "cell_type": "code",
      "source": [
        "nums = [30,40,50,60,70]\n",
        "nums.pop(2)\n",
        "print(nums)"
      ],
      "metadata": {
        "id": "h3_7ugIqyRuq",
        "outputId": "f755d848-5104-4e71-f4c1-897b2370024b",
        "colab": {
          "base_uri": "https://localhost:8080/"
        }
      },
      "execution_count": null,
      "outputs": [
        {
          "output_type": "stream",
          "name": "stdout",
          "text": [
            "[30, 40, 60, 70]\n"
          ]
        }
      ]
    },
    {
      "cell_type": "markdown",
      "source": [
        "pop() - it removes the last element in list"
      ],
      "metadata": {
        "id": "F1Mo76sry1WY"
      }
    },
    {
      "cell_type": "code",
      "source": [
        "nums=[33,45,36,78,39]\n",
        "nums.pop()\n",
        "print(nums)"
      ],
      "metadata": {
        "id": "b-8ejnRny6H3",
        "outputId": "4158239c-661c-4e70-e601-bd98217ca08e",
        "colab": {
          "base_uri": "https://localhost:8080/"
        }
      },
      "execution_count": null,
      "outputs": [
        {
          "output_type": "stream",
          "name": "stdout",
          "text": [
            "[33, 45, 36, 78]\n"
          ]
        }
      ]
    },
    {
      "cell_type": "markdown",
      "source": [
        "clear() - it removes all elements in a list"
      ],
      "metadata": {
        "id": "M2pP5nxZzL19"
      }
    },
    {
      "cell_type": "code",
      "source": [
        "nums=[30,35,40,45,50]\n",
        "nums.clear()\n",
        "print(nums)"
      ],
      "metadata": {
        "id": "2z1nQdT10jX0",
        "outputId": "9b415239-4434-4c24-dccf-69e36e627bd1",
        "colab": {
          "base_uri": "https://localhost:8080/"
        }
      },
      "execution_count": null,
      "outputs": [
        {
          "output_type": "stream",
          "name": "stdout",
          "text": [
            "[]\n"
          ]
        }
      ]
    },
    {
      "cell_type": "markdown",
      "source": [
        "Copy - Copies the list"
      ],
      "metadata": {
        "id": "p0QlsN3E3KSU"
      }
    },
    {
      "cell_type": "code",
      "source": [
        "number = [1,2,3]\n",
        "number_copy = number.copy()\n",
        "number.reverse()\n",
        "print(number)\n",
        "print(number_copy)"
      ],
      "metadata": {
        "id": "bHQO2BRf3Oki",
        "outputId": "7ce62ead-8109-4953-c998-bb5c26533abc",
        "colab": {
          "base_uri": "https://localhost:8080/"
        }
      },
      "execution_count": null,
      "outputs": [
        {
          "output_type": "stream",
          "name": "stdout",
          "text": [
            "[3, 2, 1]\n",
            "[1, 2, 3]\n"
          ]
        }
      ]
    },
    {
      "cell_type": "markdown",
      "source": [
        "List functions & Methods"
      ],
      "metadata": {
        "id": "KV67vA5b9W-E"
      }
    },
    {
      "cell_type": "code",
      "source": [
        "#length - to get the length of list\n",
        "nums=[3,4,1,5,9]\n",
        "print(len(nums))"
      ],
      "metadata": {
        "colab": {
          "base_uri": "https://localhost:8080/"
        },
        "id": "DCBHEU9j9kbW",
        "outputId": "d445e369-247a-4e24-880f-93619b91286c"
      },
      "execution_count": null,
      "outputs": [
        {
          "output_type": "stream",
          "name": "stdout",
          "text": [
            "5\n"
          ]
        }
      ]
    },
    {
      "cell_type": "code",
      "source": [
        "#sum - it gives the sum of elements\n",
        "nums=[1,3,4,2]\n",
        "print(sum(nums))"
      ],
      "metadata": {
        "id": "pdTRzwN-BCXf",
        "outputId": "5aa9c03a-9953-49b6-b790-265f738c3687",
        "colab": {
          "base_uri": "https://localhost:8080/"
        }
      },
      "execution_count": null,
      "outputs": [
        {
          "output_type": "stream",
          "name": "stdout",
          "text": [
            "10\n"
          ]
        }
      ]
    },
    {
      "cell_type": "code",
      "source": [
        "#max - it gives the largest element of list\n",
        "nums=[1,8,9,10]\n",
        "print(max(nums))"
      ],
      "metadata": {
        "id": "EiaQgFLRBr7P",
        "outputId": "155ed39d-5bbe-4e69-9c3d-3f8ceca91c22",
        "colab": {
          "base_uri": "https://localhost:8080/"
        }
      },
      "execution_count": null,
      "outputs": [
        {
          "output_type": "stream",
          "name": "stdout",
          "text": [
            "10\n"
          ]
        }
      ]
    },
    {
      "cell_type": "code",
      "source": [
        "#min -  it gives the minimum value of list\n",
        "nums=[2,1,3,5,9]\n",
        "print(min(nums))"
      ],
      "metadata": {
        "id": "RhBr6p-tChZO",
        "outputId": "c9f0a5d2-3bb7-4ed6-f41a-c38beec05939",
        "colab": {
          "base_uri": "https://localhost:8080/"
        }
      },
      "execution_count": null,
      "outputs": [
        {
          "output_type": "stream",
          "name": "stdout",
          "text": [
            "1\n"
          ]
        }
      ]
    },
    {
      "cell_type": "code",
      "source": [
        "#sorted - it returns sorted list\n",
        "nums = [33,46,29,53,10]\n",
        "print(sorted(nums))"
      ],
      "metadata": {
        "id": "_fe6SNk3Deq6",
        "outputId": "ddad391c-4b82-4d5c-df46-ff7eb3220aff",
        "colab": {
          "base_uri": "https://localhost:8080/"
        }
      },
      "execution_count": null,
      "outputs": [
        {
          "output_type": "stream",
          "name": "stdout",
          "text": [
            "[10, 29, 33, 46, 53]\n"
          ]
        }
      ]
    },
    {
      "cell_type": "markdown",
      "source": [
        "Dictionary - collection of key value pairs, it is unordered, mutable & indexed by keys, not by position"
      ],
      "metadata": {
        "id": "rotn253ss5OD"
      }
    },
    {
      "cell_type": "code",
      "source": [
        "student = {\"Name\": \"Jayanth\", \"Age\":20, \"Branch\":\"CSBS\"}\n",
        "print(student)"
      ],
      "metadata": {
        "id": "kmP2ov2subIp",
        "outputId": "f37bc57e-dbaa-438d-fa8b-c0f3eecb949e",
        "colab": {
          "base_uri": "https://localhost:8080/"
        }
      },
      "execution_count": null,
      "outputs": [
        {
          "output_type": "stream",
          "name": "stdout",
          "text": [
            "{'Name': 'Jayanth', 'Age': 20, 'Branch': 'CSBS'}\n"
          ]
        }
      ]
    },
    {
      "cell_type": "code",
      "source": [
        "#creating dictionary\n",
        "my_dict = {'a':1, 'b':2, 'c':3}\n",
        "print(my_dict['a'])\n",
        "print(my_dict.get('b'))"
      ],
      "metadata": {
        "id": "kcruvWKvvUp9",
        "outputId": "5de33948-f354-4dec-f360-a900b8d981fc",
        "colab": {
          "base_uri": "https://localhost:8080/"
        }
      },
      "execution_count": null,
      "outputs": [
        {
          "output_type": "stream",
          "name": "stdout",
          "text": [
            "1\n",
            "2\n"
          ]
        }
      ]
    },
    {
      "cell_type": "code",
      "source": [
        "#Add, Update & delete elements\n",
        "my_dict = {'a':1, 'b':2, 'c':3}\n",
        "my_dict['d']=4\n",
        "my_dict['a']=100\n",
        "print(my_dict)"
      ],
      "metadata": {
        "id": "56M_KNs50cyT",
        "outputId": "a4ba69d3-0f07-43de-bd4c-2d4aed7141e7",
        "colab": {
          "base_uri": "https://localhost:8080/"
        }
      },
      "execution_count": null,
      "outputs": [
        {
          "output_type": "stream",
          "name": "stdout",
          "text": [
            "{'a': 100, 'b': 2, 'c': 3, 'd': 4}\n"
          ]
        }
      ]
    },
    {
      "cell_type": "code",
      "source": [
        "#delete keys\n",
        "my_dict = {'a':1,'b':2, 'c':3, 'd':4}\n",
        "my_dict['b']  #delete by key\n",
        "my_dict.pop('c') #delete & return\n",
        "my_dict.popitem() # Removes last added pair\n",
        "#my_dict.clear() # Removes all items\n"
      ],
      "metadata": {
        "id": "2xCgi4Ec2XXU",
        "outputId": "026d478a-2e77-4d9c-a5dc-6d5f1c66722d",
        "colab": {
          "base_uri": "https://localhost:8080/"
        }
      },
      "execution_count": null,
      "outputs": [
        {
          "output_type": "execute_result",
          "data": {
            "text/plain": [
              "('d', 4)"
            ]
          },
          "metadata": {},
          "execution_count": 10
        }
      ]
    },
    {
      "cell_type": "markdown",
      "source": [
        "Tuples Ordered, immutable(unchangeable), collection of items"
      ],
      "metadata": {
        "id": "TVOUT0Dywb-T"
      }
    },
    {
      "cell_type": "code",
      "source": [
        "my_tuple = (1,2,3,4)\n",
        "print(my_tuple)"
      ],
      "metadata": {
        "colab": {
          "base_uri": "https://localhost:8080/"
        },
        "id": "wE3CP96ow212",
        "outputId": "daf39cc6-dc11-4bf7-93d7-a0caa7ebdddc"
      },
      "execution_count": null,
      "outputs": [
        {
          "output_type": "stream",
          "name": "stdout",
          "text": [
            "(1, 2, 3, 4)\n"
          ]
        }
      ]
    },
    {
      "cell_type": "code",
      "source": [
        "#count() - Returns the number of times specified value occurs in a tuple.\n",
        "my_tuple=(1,2,3,4,2,2,4)\n",
        "print(my_tuple.count(2))"
      ],
      "metadata": {
        "colab": {
          "base_uri": "https://localhost:8080/"
        },
        "id": "_LS0-nrDxNcN",
        "outputId": "e4eb4010-71cd-4b93-c889-846af58df859"
      },
      "execution_count": null,
      "outputs": [
        {
          "output_type": "stream",
          "name": "stdout",
          "text": [
            "3\n"
          ]
        }
      ]
    },
    {
      "cell_type": "code",
      "source": [
        "#index() - returns the index o the first occurance of a specified value.\n",
        "a = (10,20,30,40,50,60)\n",
        "print(a.index(30))"
      ],
      "metadata": {
        "colab": {
          "base_uri": "https://localhost:8080/"
        },
        "id": "FR58pBQUzk_H",
        "outputId": "853dc3bd-dc80-4315-997d-3eeeafdf84ff"
      },
      "execution_count": null,
      "outputs": [
        {
          "output_type": "stream",
          "name": "stdout",
          "text": [
            "2\n"
          ]
        }
      ]
    },
    {
      "cell_type": "code",
      "source": [
        "#len() - returns the element in the tuple\n",
        "a = (22,33,44,56,78)\n",
        "print(len(a))"
      ],
      "metadata": {
        "colab": {
          "base_uri": "https://localhost:8080/"
        },
        "id": "mb6ofy3H02V-",
        "outputId": "626ee5cf-c0a6-45ac-e199-cf9805cd1849"
      },
      "execution_count": null,
      "outputs": [
        {
          "output_type": "stream",
          "name": "stdout",
          "text": [
            "5\n"
          ]
        }
      ]
    },
    {
      "cell_type": "code",
      "source": [
        "#max() - returns the largest item in the tuple\n",
        "a = (10,33,40,59,60)\n",
        "print(max(a))"
      ],
      "metadata": {
        "colab": {
          "base_uri": "https://localhost:8080/"
        },
        "id": "e5tJm9FK1vc3",
        "outputId": "b1035a57-ebc8-47b7-fcbb-93ff3a4d7fc8"
      },
      "execution_count": null,
      "outputs": [
        {
          "output_type": "stream",
          "name": "stdout",
          "text": [
            "60\n"
          ]
        }
      ]
    },
    {
      "cell_type": "code",
      "source": [
        "#accessing elements inside a tuple\n",
        "fruits = ('apple','cherry','Banana','orange')\n",
        "fruits[-1]"
      ],
      "metadata": {
        "colab": {
          "base_uri": "https://localhost:8080/",
          "height": 35
        },
        "id": "LbvkiEgN2ds0",
        "outputId": "9b08218c-4248-475d-e412-c53becc8884e"
      },
      "execution_count": null,
      "outputs": [
        {
          "output_type": "execute_result",
          "data": {
            "text/plain": [
              "'orange'"
            ],
            "application/vnd.google.colaboratory.intrinsic+json": {
              "type": "string"
            }
          },
          "metadata": {},
          "execution_count": 10
        }
      ]
    },
    {
      "cell_type": "code",
      "source": [
        "vegetables = ('coconut','cucumber','onion','potato')\n",
        "vegetables[1]"
      ],
      "metadata": {
        "colab": {
          "base_uri": "https://localhost:8080/",
          "height": 35
        },
        "id": "Myacic1j3MtC",
        "outputId": "ad66a8d8-d36b-4ce2-9b9f-e742baf196f8"
      },
      "execution_count": null,
      "outputs": [
        {
          "output_type": "execute_result",
          "data": {
            "text/plain": [
              "'cucumber'"
            ],
            "application/vnd.google.colaboratory.intrinsic+json": {
              "type": "string"
            }
          },
          "metadata": {},
          "execution_count": 12
        }
      ]
    },
    {
      "cell_type": "markdown",
      "source": [
        "Tuple packing & unpacking - Tuples allow u to group multiple values & extract them easily."
      ],
      "metadata": {
        "id": "dOfk2tpC5-98"
      }
    },
    {
      "cell_type": "code",
      "source": [
        "#packing\n",
        "student = (\"Jayanth\",\"CSBS\",3)\n",
        "#unpacking\n",
        "name, branch, year = student\n",
        "print(name)\n",
        "print(branch)\n",
        "print(year)"
      ],
      "metadata": {
        "colab": {
          "base_uri": "https://localhost:8080/"
        },
        "id": "RFak6mUN5-OO",
        "outputId": "0843f5b9-9585-41a2-8d0d-8deb771ad25e"
      },
      "execution_count": null,
      "outputs": [
        {
          "output_type": "stream",
          "name": "stdout",
          "text": [
            "Jayanth\n",
            "CSBS\n",
            "3\n"
          ]
        }
      ]
    },
    {
      "cell_type": "code",
      "source": [
        "#Concatenating - to add items to tuple\n",
        "fruits = ('mango','orange')\n",
        "f1 = fruits + (\"grapes\", \"Banana\")\n",
        "print(f1)"
      ],
      "metadata": {
        "colab": {
          "base_uri": "https://localhost:8080/"
        },
        "id": "NinGrFeu9AZG",
        "outputId": "b8887158-eada-4cfc-8997-61dcdd35ca69"
      },
      "execution_count": null,
      "outputs": [
        {
          "output_type": "stream",
          "name": "stdout",
          "text": [
            "('mango', 'orange', 'grapes', 'Banana')\n"
          ]
        }
      ]
    },
    {
      "cell_type": "code",
      "source": [
        "f1 = ('mango','orange','cherry')\n",
        "#type(f1)\n",
        "#list(f1)\n",
        "type(f1)"
      ],
      "metadata": {
        "id": "7tityn6v-dMI",
        "outputId": "d077b91b-63fa-4fbe-bff8-9e81ccc7b7a5",
        "colab": {
          "base_uri": "https://localhost:8080/"
        }
      },
      "execution_count": null,
      "outputs": [
        {
          "output_type": "execute_result",
          "data": {
            "text/plain": [
              "tuple"
            ]
          },
          "metadata": {},
          "execution_count": 21
        }
      ]
    },
    {
      "cell_type": "code",
      "source": [
        "#operators\n"
      ],
      "metadata": {
        "id": "KKoQWjdDrBx3"
      },
      "execution_count": null,
      "outputs": []
    }
  ]
}