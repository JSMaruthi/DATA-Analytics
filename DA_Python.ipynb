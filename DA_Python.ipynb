{
  "nbformat": 4,
  "nbformat_minor": 0,
  "metadata": {
    "colab": {
      "provenance": [],
      "authorship_tag": "ABX9TyOToawaRV7qmJmiF0WOrHwt",
      "include_colab_link": true
    },
    "kernelspec": {
      "name": "python3",
      "display_name": "Python 3"
    },
    "language_info": {
      "name": "python"
    }
  },
  "cells": [
    {
      "cell_type": "markdown",
      "metadata": {
        "id": "view-in-github",
        "colab_type": "text"
      },
      "source": [
        "<a href=\"https://colab.research.google.com/github/JSMaruthi/DATA-Analytics/blob/main/DA_Python.ipynb\" target=\"_parent\"><img src=\"https://colab.research.google.com/assets/colab-badge.svg\" alt=\"Open In Colab\"/></a>"
      ]
    },
    {
      "cell_type": "code",
      "execution_count": null,
      "metadata": {
        "colab": {
          "base_uri": "https://localhost:8080/"
        },
        "id": "ZXDwKvo2_R6z",
        "outputId": "0d15374f-e1a2-4967-99d6-77f43636d388"
      },
      "outputs": [
        {
          "output_type": "stream",
          "name": "stdout",
          "text": [
            "Hello world\n"
          ]
        }
      ],
      "source": [
        "print (\"Hello world\")"
      ]
    },
    {
      "cell_type": "code",
      "source": [
        "      Creating variables"
      ],
      "metadata": {
        "id": "NO1xLSctAC3c"
      },
      "execution_count": null,
      "outputs": []
    },
    {
      "cell_type": "code",
      "source": [
        "college = (\"SJCE\")\n",
        "print (college)"
      ],
      "metadata": {
        "colab": {
          "base_uri": "https://localhost:8080/"
        },
        "id": "ENJyOj69RGh0",
        "outputId": "d7755cb6-6d05-4d7f-aeb1-254ddaac336d"
      },
      "execution_count": null,
      "outputs": [
        {
          "output_type": "stream",
          "name": "stdout",
          "text": [
            "SJCE\n"
          ]
        }
      ]
    },
    {
      "cell_type": "code",
      "source": [
        "a = 10\n",
        "b= 25\n",
        "c=a*b\n",
        "print (c)"
      ],
      "metadata": {
        "colab": {
          "base_uri": "https://localhost:8080/"
        },
        "id": "A65F1pNISoRx",
        "outputId": "19df3927-8f85-405f-cd34-0768d674f0ca"
      },
      "execution_count": null,
      "outputs": [
        {
          "output_type": "stream",
          "name": "stdout",
          "text": [
            "250\n"
          ]
        }
      ]
    },
    {
      "cell_type": "code",
      "source": [
        "print (college,c)"
      ],
      "metadata": {
        "colab": {
          "base_uri": "https://localhost:8080/"
        },
        "id": "XhMxoMHBTBN7",
        "outputId": "fd3e4db7-3c9f-4fbe-f0bc-0858e7dcb494"
      },
      "execution_count": null,
      "outputs": [
        {
          "output_type": "stream",
          "name": "stdout",
          "text": [
            "SJCE 250\n"
          ]
        }
      ]
    },
    {
      "cell_type": "code",
      "source": [
        "True + 1\n"
      ],
      "metadata": {
        "colab": {
          "base_uri": "https://localhost:8080/"
        },
        "id": "qvh15GTST-7Q",
        "outputId": "972b7a85-343d-4d3b-a674-1ee650651bc8"
      },
      "execution_count": null,
      "outputs": [
        {
          "output_type": "execute_result",
          "data": {
            "text/plain": [
              "2"
            ]
          },
          "metadata": {},
          "execution_count": 10
        }
      ]
    },
    {
      "cell_type": "code",
      "source": [
        "False + 1"
      ],
      "metadata": {
        "colab": {
          "base_uri": "https://localhost:8080/"
        },
        "id": "dtHOA11VVirh",
        "outputId": "a6b9753d-4222-437d-daf0-56b09946c1a7"
      },
      "execution_count": null,
      "outputs": [
        {
          "output_type": "execute_result",
          "data": {
            "text/plain": [
              "1"
            ]
          },
          "metadata": {},
          "execution_count": 11
        }
      ]
    },
    {
      "cell_type": "code",
      "source": [
        "True + True"
      ],
      "metadata": {
        "colab": {
          "base_uri": "https://localhost:8080/"
        },
        "id": "TtRBOW81Vp8J",
        "outputId": "d5af1d00-b9c3-4f0f-8442-ea706aa0b48a"
      },
      "execution_count": null,
      "outputs": [
        {
          "output_type": "execute_result",
          "data": {
            "text/plain": [
              "2"
            ]
          },
          "metadata": {},
          "execution_count": 12
        }
      ]
    },
    {
      "cell_type": "code",
      "source": [
        "False + False"
      ],
      "metadata": {
        "colab": {
          "base_uri": "https://localhost:8080/"
        },
        "id": "06ZJitwIVuK7",
        "outputId": "608ac43d-8d02-4891-d961-e6040a123263"
      },
      "execution_count": null,
      "outputs": [
        {
          "output_type": "execute_result",
          "data": {
            "text/plain": [
              "0"
            ]
          },
          "metadata": {},
          "execution_count": 14
        }
      ]
    },
    {
      "cell_type": "code",
      "source": [
        "\"STR\" + True"
      ],
      "metadata": {
        "colab": {
          "base_uri": "https://localhost:8080/",
          "height": 176
        },
        "id": "Ev0OJUrpV11S",
        "outputId": "28663ec9-eca2-40e9-ca72-3f094a9c4e80"
      },
      "execution_count": null,
      "outputs": [
        {
          "output_type": "error",
          "ename": "TypeError",
          "evalue": "can only concatenate str (not \"bool\") to str",
          "traceback": [
            "\u001b[0;31m---------------------------------------------------------------------------\u001b[0m",
            "\u001b[0;31mTypeError\u001b[0m                                 Traceback (most recent call last)",
            "\u001b[0;32m/tmp/ipython-input-3625798119.py\u001b[0m in \u001b[0;36m<cell line: 0>\u001b[0;34m()\u001b[0m\n\u001b[0;32m----> 1\u001b[0;31m \u001b[0;34m\"STR\"\u001b[0m \u001b[0;34m+\u001b[0m \u001b[0;32mTrue\u001b[0m\u001b[0;34m\u001b[0m\u001b[0;34m\u001b[0m\u001b[0m\n\u001b[0m",
            "\u001b[0;31mTypeError\u001b[0m: can only concatenate str (not \"bool\") to str"
          ]
        }
      ]
    },
    {
      "cell_type": "code",
      "source": [
        "#TYPE Casting int -> Float\n",
        "x = 10      #int\n",
        "y = 3.5     #float\n",
        "z = x + y\n",
        "print (z)\n",
        "print (type(z))"
      ],
      "metadata": {
        "colab": {
          "base_uri": "https://localhost:8080/"
        },
        "id": "JdCeTFkbWqzO",
        "outputId": "f76c0450-ad4c-46fa-f6ef-c610e7f1d8ee"
      },
      "execution_count": null,
      "outputs": [
        {
          "output_type": "stream",
          "name": "stdout",
          "text": [
            "13.5\n",
            "<class 'float'>\n"
          ]
        }
      ]
    },
    {
      "cell_type": "code",
      "source": [
        "#Type Casting float -> int\n",
        "a = 10.5\n",
        "b = int(a)\n",
        "print (b)\n",
        "print(type (a))"
      ],
      "metadata": {
        "colab": {
          "base_uri": "https://localhost:8080/"
        },
        "id": "wkO7F6EnYHJE",
        "outputId": "7c63ea88-0962-467f-cb66-5136a75086ec"
      },
      "execution_count": null,
      "outputs": [
        {
          "output_type": "stream",
          "name": "stdout",
          "text": [
            "10\n",
            "<class 'float'>\n"
          ]
        }
      ]
    },
    {
      "cell_type": "code",
      "source": [
        "#Type Casting number -> string\n",
        "d = str(123)\n",
        "print (d)\n",
        "print (type(d))\n"
      ],
      "metadata": {
        "colab": {
          "base_uri": "https://localhost:8080/"
        },
        "id": "U7Q4fUhbYltv",
        "outputId": "8f09bebc-18f3-4a7f-d51d-3f3c41ed2c83"
      },
      "execution_count": null,
      "outputs": [
        {
          "output_type": "stream",
          "name": "stdout",
          "text": [
            "123\n",
            "<class 'str'>\n"
          ]
        }
      ]
    },
    {
      "cell_type": "code",
      "source": [
        "#Type Casting string -> integer\n",
        "e = int (\"56\")\n",
        "print (e)\n",
        "print (type(e))\n"
      ],
      "metadata": {
        "colab": {
          "base_uri": "https://localhost:8080/"
        },
        "id": "jAH92SseZc-k",
        "outputId": "99fc768a-6a8a-4506-8565-28f4d2480506"
      },
      "execution_count": null,
      "outputs": [
        {
          "output_type": "stream",
          "name": "stdout",
          "text": [
            "56\n",
            "<class 'int'>\n"
          ]
        }
      ]
    },
    {
      "cell_type": "code",
      "source": [
        "#Formatted output\n",
        "name = \"Maruthi S\"\n",
        "age = 20\n",
        "print (f\"My name is {name} and my age is {age}\")"
      ],
      "metadata": {
        "colab": {
          "base_uri": "https://localhost:8080/"
        },
        "id": "UVks9Fdib9iR",
        "outputId": "ed110462-5964-453f-cc06-8477418fc1c0"
      },
      "execution_count": null,
      "outputs": [
        {
          "output_type": "stream",
          "name": "stdout",
          "text": [
            "My name is Maruthi S and my age is 20\n"
          ]
        }
      ]
    },
    {
      "cell_type": "code",
      "source": [
        "#Functions"
      ],
      "metadata": {
        "id": "5NLRajW4ezG9"
      },
      "execution_count": null,
      "outputs": []
    },
    {
      "cell_type": "code",
      "source": [
        "def greet():\n",
        "  print (\"Hello, Welcome to Python!\")\n"
      ],
      "metadata": {
        "id": "PZBeeP-DbwH_"
      },
      "execution_count": null,
      "outputs": []
    },
    {
      "cell_type": "code",
      "source": [
        "greet()\n"
      ],
      "metadata": {
        "colab": {
          "base_uri": "https://localhost:8080/"
        },
        "id": "X7FhgMedifus",
        "outputId": "1b3f5e07-d324-4552-f720-93b776c7f24b"
      },
      "execution_count": null,
      "outputs": [
        {
          "output_type": "stream",
          "name": "stdout",
          "text": [
            "Hello, Welcome to Python!\n"
          ]
        }
      ]
    },
    {
      "cell_type": "markdown",
      "source": [
        "Functions with Parameter"
      ],
      "metadata": {
        "id": "BuSDs1y0kiNM"
      }
    },
    {
      "cell_type": "code",
      "source": [
        "def greet_user (Jayanth):\n",
        "  print (f\"Hello, {Jayanth}!\")\n",
        "\n",
        "greet_user (\"Jayanth\")"
      ],
      "metadata": {
        "colab": {
          "base_uri": "https://localhost:8080/"
        },
        "id": "1_Smp3lLklD3",
        "outputId": "1419b7ca-1ffa-44c5-f223-c06dd6502930"
      },
      "execution_count": null,
      "outputs": [
        {
          "output_type": "stream",
          "name": "stdout",
          "text": [
            "Hello, Jayanth!\n"
          ]
        }
      ]
    },
    {
      "cell_type": "markdown",
      "source": [
        "Functions With return type"
      ],
      "metadata": {
        "id": "AqtzfvxLiats"
      }
    },
    {
      "cell_type": "code",
      "source": [
        "def add (a,b):\n",
        "  return a+b\n",
        "result = add(10,5)\n",
        "print (\"Sum =\", result)"
      ],
      "metadata": {
        "colab": {
          "base_uri": "https://localhost:8080/"
        },
        "id": "Mp1zQ2P2qDwR",
        "outputId": "8767a35e-db73-4284-a69b-a00f906cde30"
      },
      "execution_count": null,
      "outputs": [
        {
          "output_type": "stream",
          "name": "stdout",
          "text": [
            "Sum = 15\n"
          ]
        }
      ]
    },
    {
      "cell_type": "markdown",
      "source": [
        "List - ordered, changeable & store different data types. Index will start from 0."
      ],
      "metadata": {
        "id": "WP2ufdGzeyhe"
      }
    },
    {
      "cell_type": "code",
      "source": [
        "fruits = [\"apple\",\"Banana\",\"Cherry\"]\n",
        "numbers = [10,12,24]\n",
        "mixed = [10, \"Hi\", 3.14, True]\n"
      ],
      "metadata": {
        "id": "Ysk-seLA3T9t"
      },
      "execution_count": null,
      "outputs": []
    },
    {
      "cell_type": "code",
      "source": [
        "num = [1,3,5,7,9]\n",
        "num[-3]\n"
      ],
      "metadata": {
        "id": "GKD5mI3R5EnE",
        "outputId": "57630545-49b9-498d-db91-29a07777d453",
        "colab": {
          "base_uri": "https://localhost:8080/"
        }
      },
      "execution_count": null,
      "outputs": [
        {
          "output_type": "execute_result",
          "data": {
            "text/plain": [
              "5"
            ]
          },
          "metadata": {},
          "execution_count": 8
        }
      ]
    },
    {
      "cell_type": "code",
      "source": [
        "num = [1,3,5,7,9]\n",
        "num[2]"
      ],
      "metadata": {
        "id": "0bQ-Rig658b9",
        "outputId": "45a0895b-7fde-47f3-a361-aa1f441443b2",
        "colab": {
          "base_uri": "https://localhost:8080/"
        }
      },
      "execution_count": null,
      "outputs": [
        {
          "output_type": "execute_result",
          "data": {
            "text/plain": [
              "5"
            ]
          },
          "metadata": {},
          "execution_count": 9
        }
      ]
    },
    {
      "cell_type": "markdown",
      "source": [
        "Modifying lists, changing value"
      ],
      "metadata": {
        "id": "h52lJDb0epxp"
      }
    },
    {
      "cell_type": "code",
      "source": [
        "numbers=[10,20,30,40,50]\n",
        "numbers[2]=35\n",
        "print(numbers)"
      ],
      "metadata": {
        "colab": {
          "base_uri": "https://localhost:8080/"
        },
        "id": "Ar7RyUAues-U",
        "outputId": "82139e6a-99fe-4649-a730-8e40b308b117"
      },
      "execution_count": 1,
      "outputs": [
        {
          "output_type": "stream",
          "name": "stdout",
          "text": [
            "[10, 20, 35, 40, 50]\n"
          ]
        }
      ]
    },
    {
      "cell_type": "markdown",
      "source": [
        "  Adding Elements\n",
        "(Append) - Adds item @ the end"
      ],
      "metadata": {
        "id": "aE4genJah6Mi"
      }
    },
    {
      "cell_type": "code",
      "source": [
        "nums = [1,2,3]\n",
        "nums.append(4)\n",
        "print(nums)"
      ],
      "metadata": {
        "colab": {
          "base_uri": "https://localhost:8080/"
        },
        "id": "DXZzDNTviGrr",
        "outputId": "c37692c2-3a6e-449e-a6ae-9b7a592088eb"
      },
      "execution_count": 3,
      "outputs": [
        {
          "output_type": "stream",
          "name": "stdout",
          "text": [
            "[1, 2, 3, 4]\n"
          ]
        }
      ]
    },
    {
      "cell_type": "markdown",
      "source": [
        "(insert) adds its @ specific index"
      ],
      "metadata": {
        "id": "VbJ116Q1jLtk"
      }
    },
    {
      "cell_type": "code",
      "source": [
        "numbers=[10,20,30,40]\n",
        "numbers.insert(3,35)\n",
        "print(numbers)"
      ],
      "metadata": {
        "colab": {
          "base_uri": "https://localhost:8080/"
        },
        "id": "LdtzL6CPj9bS",
        "outputId": "b019b7a1-6a34-48a8-c9ca-3657f9d77aa6"
      },
      "execution_count": 5,
      "outputs": [
        {
          "output_type": "stream",
          "name": "stdout",
          "text": [
            "[10, 20, 30, 35, 40]\n"
          ]
        }
      ]
    }
  ]
}